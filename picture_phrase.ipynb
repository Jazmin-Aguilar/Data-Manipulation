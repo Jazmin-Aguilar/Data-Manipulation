{
 "cells": [
  {
   "cell_type": "markdown",
   "metadata": {},
   "source": [
    "# DTSC-580: Data Manipulation\n",
    "## Picture Phrase: NumPy Assignment\n",
    "#### Name:\n",
    "\n",
    "## Overview\n",
    "\n",
    "For this assignment, I took a picture with a specific phrase written on it and turned it into a NumPy array of RGB values.  I then transformed that array using a set of specific NumPy transformations.  It will be your task to transform the array back to the original by performing the same NumPy transformations.  In the end, you will reshape the array and show the corresponding image associated with it. Your notebook will then be uploaded to CodeGrade to check your results.\n",
    "\n",
    "### Important Details\n",
    "\n",
    "- Please make sure you follow all the steps <u>*in order*</u> or the picture may not be viewable and the question may be counted incorrect in CodeGrade.  \n",
    "- Since these operations must be done in order, you MUST use the variable from the previous question when performing the operation. For example:\n",
    "\n",
    "   **SampleQ1:** Create a variable called SampleQ1 that is equal to 1.\n",
    "\n",
    "       SampleQ1 = 1\n",
    "\n",
    "   **SampleQ2:** Add 1.\n",
    "\n",
    "      SampleQ2 = SampleQ1 + 1\n",
    "\n",
    "   **SampleQ3:** Multiply by 2\n",
    "\n",
    "      SampleQ3 = SampleQ2 * 2\n",
    "      \n",
    "- To prevent creating views of the array where you might inadvertently change an earlier array without knowing it, we have included code in most questions to create a copy of the previous array.  [See this link for more information on views vs copies.](https://www.w3schools.com/python/numpy/numpy_copy_vs_view.asp#:~:text=The%20main%20difference%20between%20a,will%20not%20affect%20the%20copy.)\n",
    "- Make sure that your notebook is saved with the name `picture_phrase` before submitting to CodeGrade.\n",
    "\n",
    "### CodeGrade\n",
    "- You may want to run your code through CodeGrade to check your work as you go along.  Note that you will need to comment out any lines of code for questions that are not yet complete (for instance, the given code that makes copies of your arrays) or there will be an error message generated, which will cause CodeGrade to not work.  Just remember to uncomment the code as you go along or you may be creating views that will affect previous arrays.\n",
    "- If CodeGrade is marking every question wrong and it is not showing any output under \"Actual output\", check to see if there is an error message under the \"Errors\" tab.  If CodeGrade encounters an error, it will stop processing the file and mark every answer incorrect.  Fix this error and then try re-submitting again."
   ]
  },
  {
   "cell_type": "markdown",
   "metadata": {},
   "source": [
    "## Standard Imports"
   ]
  },
  {
   "cell_type": "code",
   "execution_count": 1,
   "metadata": {},
   "outputs": [],
   "source": [
    "# load standard imports\n",
    "import numpy as np\n",
    "from matplotlib import pyplot as plt\n",
    "np.set_printoptions(suppress=True) #prevent numpy exponential "
   ]
  },
  {
   "cell_type": "markdown",
   "metadata": {},
   "source": [
    "## Load Array "
   ]
  },
  {
   "cell_type": "code",
   "execution_count": 2,
   "metadata": {},
   "outputs": [],
   "source": [
    "# load image\n",
    "img = np.loadtxt('array.txt', dtype='U32')\n",
    "#img = np.loadtxt('C:/Users/Public/array.txt', dtype='U32') # for my own use\n"
   ]
  },
  {
   "cell_type": "code",
   "execution_count": 3,
   "metadata": {},
   "outputs": [
    {
     "data": {
      "text/plain": [
       "array(['-7.45', '2484.4', '-6.7', ..., '42894.65', '40607.15', '46813.95'],\n",
       "      dtype='<U32')"
      ]
     },
     "execution_count": 3,
     "metadata": {},
     "output_type": "execute_result"
    }
   ],
   "source": [
    "# view array\n",
    "img"
   ]
  },
  {
   "cell_type": "markdown",
   "metadata": {},
   "source": [
    "It doesn't look like it, but this array actually contains RGB values (albeit mixed up and transformed) for a picture. Let's check the shape of the data."
   ]
  },
  {
   "cell_type": "markdown",
   "metadata": {},
   "source": [
    "## NumPy Exercises\n",
    "\n",
    "**Exercise:** What is the shape of the NumPy array?"
   ]
  },
  {
   "cell_type": "code",
   "execution_count": 4,
   "metadata": {},
   "outputs": [
    {
     "data": {
      "text/plain": [
       "(812160,)"
      ]
     },
     "execution_count": 4,
     "metadata": {},
     "output_type": "execute_result"
    }
   ],
   "source": [
    "img.shape"
   ]
  },
  {
   "cell_type": "markdown",
   "metadata": {},
   "source": [
    "Next, let's check the data type.\n",
    "\n",
    "**Exercise:** What is the data type for the array?"
   ]
  },
  {
   "cell_type": "code",
   "execution_count": 5,
   "metadata": {},
   "outputs": [
    {
     "data": {
      "text/plain": [
       "dtype('<U32')"
      ]
     },
     "execution_count": 5,
     "metadata": {},
     "output_type": "execute_result"
    }
   ],
   "source": [
    "img.dtype"
   ]
  },
  {
   "cell_type": "markdown",
   "metadata": {},
   "source": [
    "### CodeGrade Questions\n",
    "\n",
    "For the next tasks, save your output as the question number.  The first two have been done for you as examples."
   ]
  },
  {
   "cell_type": "markdown",
   "metadata": {},
   "source": [
    "In order to perform mathematical operations on the data, we will need the values to be in a numerical format. \n",
    "\n",
    "**Q1:** Update the data type of `img` to `float64` and call it `Q1`."
   ]
  },
  {
   "cell_type": "code",
   "execution_count": 6,
   "metadata": {},
   "outputs": [
    {
     "data": {
      "text/plain": [
       "array([   -7.45,  2484.4 ,    -6.7 , ..., 42894.65, 40607.15, 46813.95])"
      ]
     },
     "execution_count": 6,
     "metadata": {},
     "output_type": "execute_result"
    }
   ],
   "source": [
    "# update `img` to float and call it Q1\n",
    "Q1 = img.astype('float64')\n",
    "Q1"
   ]
  },
  {
   "cell_type": "markdown",
   "metadata": {},
   "source": [
    "One of the key features of NumPy is its ability to perform mathematical operations on whole blocks of data. Let's look at some of these operations.\n",
    "\n",
    "**Q2:** Multiply each element in the `Q1` array by 10 and call this new array `Q2`."
   ]
  },
  {
   "cell_type": "code",
   "execution_count": 7,
   "metadata": {},
   "outputs": [
    {
     "data": {
      "text/plain": [
       "array([   -74.5,  24844. ,    -67. , ..., 428946.5, 406071.5, 468139.5])"
      ]
     },
     "execution_count": 7,
     "metadata": {},
     "output_type": "execute_result"
    }
   ],
   "source": [
    "# multiply each element by 10 \n",
    "Q2 = Q1 * 10\n",
    "Q2"
   ]
  },
  {
   "cell_type": "markdown",
   "metadata": {},
   "source": [
    "**Q3:** \n",
    "    \n",
    "1. Create a NumPy array called `arr` of the following five values: 32, 54, 67, 88, 4\n",
    "    \n",
    "2. Use the NumPy's sum method to add all the values together and store as a variable called `total`.  Do not hard code the answer by manually adding the numbers in your head.  Use NumPy functions or you may be counted off during a review of the assignment.\n",
    "    \n",
    "3. Add this total to every element of the `Q2` array and call this new array `Q3`."
   ]
  },
  {
   "cell_type": "code",
   "execution_count": 8,
   "metadata": {},
   "outputs": [
    {
     "data": {
      "text/plain": [
       "array([   170.5,  25089. ,    178. , ..., 429191.5, 406316.5, 468384.5])"
      ]
     },
     "execution_count": 8,
     "metadata": {},
     "output_type": "execute_result"
    }
   ],
   "source": [
    "arr = np.array([32, 54, 67, 88, 4])\n",
    "total = arr.sum()\n",
    "Q3 = Q2 + total\n",
    "Q3"
   ]
  },
  {
   "cell_type": "markdown",
   "metadata": {},
   "source": [
    "**Q4:** Add the `Q3` array to itself (example: array + array) and call it `Q4`. This will add the corresponding values in each cell to each other."
   ]
  },
  {
   "cell_type": "code",
   "execution_count": 9,
   "metadata": {},
   "outputs": [
    {
     "data": {
      "text/plain": [
       "array([   341.,  50178.,    356., ..., 858383., 812633., 936769.])"
      ]
     },
     "execution_count": 9,
     "metadata": {},
     "output_type": "execute_result"
    }
   ],
   "source": [
    "Q4 = Q3 + Q3\n",
    "Q4"
   ]
  },
  {
   "cell_type": "markdown",
   "metadata": {},
   "source": [
    "**Q5:** Subtract 1 from the first item in the `Q4` array, 2 from the 2nd item, 3 from the 3rd item...n from the n<sup>th</sup> item and call the new array `Q5`. You should **not** do this using any type of loop as that wouldn't be efficient. Hint: Think about creating a second array that could be used in combination with the first array to complete the task."
   ]
  },
  {
   "cell_type": "code",
   "execution_count": 10,
   "metadata": {},
   "outputs": [
    {
     "data": {
      "text/plain": [
       "array([   340.,  50176.,    353., ...,  46225.,    474., 124609.])"
      ]
     },
     "execution_count": 10,
     "metadata": {},
     "output_type": "execute_result"
    }
   ],
   "source": [
    "arr2 = np.linspace(1, Q4.size, Q4.size)  #start at 1, stop at Q4.size, num = Q4.size\n",
    "Q5 = Q4 - arr2\n",
    "Q5\n"
   ]
  },
  {
   "cell_type": "markdown",
   "metadata": {},
   "source": [
    "**Code Check:**  To check your code so far, the output of your `Q5` array should be: \n",
    "\n",
    "`array([ 340., 50176., 353.,..., 46225., 474., 124609.])`.  \n",
    "\n",
    "If your output does not match, go back and check your above steps."
   ]
  },
  {
   "cell_type": "markdown",
   "metadata": {},
   "source": [
    "**Q6:** Copy the `Q5` array and call the new array `Q6` (this step makes sure that we are working with a copy instead of a view of the previous array). Update the 4th element in the `Q6` array to `46225`. <u>Careful</u>: Remember that Python is zero based index."
   ]
  },
  {
   "cell_type": "code",
   "execution_count": 11,
   "metadata": {},
   "outputs": [],
   "source": [
    "# make a copy of the previous array\n",
    "Q6 = Q5.copy()\n",
    "\n",
    "Q6[3]= 46225\n"
   ]
  },
  {
   "cell_type": "markdown",
   "metadata": {},
   "source": [
    "**Q7:** Copy the `Q6` array and call the new array `Q7`. Select the indices from `1,000` to `200,000` (including the element in the `200,000` index) and the indices from `400,000` to `600,000` (including the element in the `600,000` index) in `Q7` and add `255` to only those values.\n",
    "\n",
    "*Hint:* Remember that you can do this in two steps: \n",
    "- Step 1) Update the first set of indices\n",
    "- Step 2) Update the second set of indices.  \n",
    "- Also remember that Python is zero based index.  \n",
    "\n",
    "As an example, if I wanted to add `10` to the values in the indices from `100` to `110` (including the element in the `110` index) I could write my code as follows:\n",
    "```python\n",
    "arr[100:111] = arr[100:111] + 10  \n",
    "\n",
    "```"
   ]
  },
  {
   "cell_type": "code",
   "execution_count": 12,
   "metadata": {},
   "outputs": [],
   "source": [
    "# make a copy of the previous array\n",
    "Q7 = Q6.copy()\n",
    "\n",
    "Q7[1000:200001] = Q7[1000:200001] +255\n",
    "Q7[400000:600001] = Q7[400000:600001] +255"
   ]
  },
  {
   "cell_type": "markdown",
   "metadata": {},
   "source": [
    "**Code Check:**  To check your code, confirm the following output from `Q7`:\n",
    "```\n",
    "Q7[999] should equal 46225.0\n",
    "Q7[1000] should equal 349.0\n",
    "Q7[600000] should equal 341.0\n",
    "Q7[600001] should equal 50625.0\n",
    "```"
   ]
  },
  {
   "cell_type": "markdown",
   "metadata": {},
   "source": [
    "**Q8:** Copy the `Q7` array and call the new array `Q8`.  Reshape the `Q8` array to a two-dimensional, two-column array."
   ]
  },
  {
   "cell_type": "code",
   "execution_count": 13,
   "metadata": {},
   "outputs": [],
   "source": [
    "# make a copy of the previous array\n",
    "Q8 = Q7.copy()\n",
    "Q8.shape\n",
    "Q8 = Q8.reshape(406080,2)"
   ]
  },
  {
   "cell_type": "markdown",
   "metadata": {},
   "source": [
    "**Q9:** Copy the `Q8` array and call the new array `Q9`.  Swap the two columns from this `Q9` array. In other words, the first column will now be the second and the second column will now be the first."
   ]
  },
  {
   "cell_type": "code",
   "execution_count": 14,
   "metadata": {},
   "outputs": [
    {
     "data": {
      "text/plain": [
       "array([[ 50176.,    340.],\n",
       "       [ 46225.,    353.],\n",
       "       [ 51984.,    349.],\n",
       "       ...,\n",
       "       [ 50176.,    340.],\n",
       "       [ 46225.,    353.],\n",
       "       [124609.,    474.]])"
      ]
     },
     "execution_count": 14,
     "metadata": {},
     "output_type": "execute_result"
    }
   ],
   "source": [
    "# make a copy of the previous array\n",
    "Q9 = Q8.copy()\n",
    "\n",
    "Q9 = Q9[:, [1,0]]\n",
    "Q9"
   ]
  },
  {
   "cell_type": "markdown",
   "metadata": {},
   "source": [
    "**Q10:** Copy the `Q9` array and call the new array `Q10`. Reverse the order of the rows of the `Q10` array."
   ]
  },
  {
   "cell_type": "code",
   "execution_count": 15,
   "metadata": {},
   "outputs": [
    {
     "data": {
      "text/plain": [
       "array([[124609.,    474.],\n",
       "       [ 46225.,    353.],\n",
       "       [ 50176.,    340.],\n",
       "       ...,\n",
       "       [ 51984.,    349.],\n",
       "       [ 46225.,    353.],\n",
       "       [ 50176.,    340.]])"
      ]
     },
     "execution_count": 15,
     "metadata": {},
     "output_type": "execute_result"
    }
   ],
   "source": [
    "# make a copy of the previous array\n",
    "Q10 = Q9.copy()\n",
    "\n",
    "Q10 = Q10[::-1, :]\n",
    "Q10"
   ]
  },
  {
   "cell_type": "markdown",
   "metadata": {},
   "source": [
    "**Code Check:** To check your code, the output of `Q10` should be the following:\n",
    "\n",
    "```\n",
    "array([[124609.,    474.],\n",
    "       [ 46225.,    353.],\n",
    "       [ 50176.,    340.],\n",
    "       ...,\n",
    "       [ 51984.,    349.],\n",
    "       [ 46225.,    353.],\n",
    "       [ 50176.,    340.]])\n",
    "```\n",
    "\n",
    "If your output does not match, go back and review your previous steps."
   ]
  },
  {
   "cell_type": "markdown",
   "metadata": {},
   "source": [
    "**Q11:** Copy the `Q10` array and call it `Q11`. Set `Q11`'s 101st row as `[46225, 353]`. <u>Careful</u>: Remember that Python is zero based index"
   ]
  },
  {
   "cell_type": "code",
   "execution_count": 16,
   "metadata": {},
   "outputs": [],
   "source": [
    "# make a copy of the previous array\n",
    "Q11 = Q10.copy()\n",
    "\n",
    "Q11[100] = [46225, 353]"
   ]
  },
  {
   "cell_type": "markdown",
   "metadata": {},
   "source": [
    "**Q12:** Copy the `Q11` array and call it `Q12`. Set the **first element** in `Q12's` 100,001st row to `46656`.  The second element in that row should remain unchanged. <u>Careful</u>: Remember that Python is zero based index"
   ]
  },
  {
   "cell_type": "code",
   "execution_count": 17,
   "metadata": {},
   "outputs": [
    {
     "data": {
      "text/plain": [
       "array([46656.,   353.])"
      ]
     },
     "execution_count": 17,
     "metadata": {},
     "output_type": "execute_result"
    }
   ],
   "source": [
    "# make a copy of the previous array\n",
    "Q12 = Q11.copy()\n",
    "\n",
    "Q12[100000,0] = 46656   \n",
    "Q12[100000]"
   ]
  },
  {
   "cell_type": "markdown",
   "metadata": {},
   "source": [
    "**Q13:** Copy the `Q12` array and call it `Q13`. Subtract 125 from every element in the **second column** for `Q13`."
   ]
  },
  {
   "cell_type": "code",
   "execution_count": 18,
   "metadata": {},
   "outputs": [
    {
     "data": {
      "text/plain": [
       "array([[124609.,    349.],\n",
       "       [ 46225.,    228.],\n",
       "       [ 50176.,    215.],\n",
       "       ...,\n",
       "       [ 51984.,    224.],\n",
       "       [ 46225.,    228.],\n",
       "       [ 50176.,    215.]])"
      ]
     },
     "execution_count": 18,
     "metadata": {},
     "output_type": "execute_result"
    }
   ],
   "source": [
    "# make a copy of the previous array\n",
    "Q13 = Q12.copy()\n",
    "\n",
    "Q13[:,1] = Q13[:,1] - 125   #1 is for second column, : row stay the same\n",
    "Q13"
   ]
  },
  {
   "cell_type": "markdown",
   "metadata": {},
   "source": [
    "**Q14:** Copy the `Q13` array and call it `Q14`. Take the square root of every element in the **first column** of `Q14`."
   ]
  },
  {
   "cell_type": "code",
   "execution_count": 19,
   "metadata": {},
   "outputs": [],
   "source": [
    "# make a copy of the previous array\n",
    "Q14 = Q13.copy()\n",
    "\n",
    "Q14[:, 0] = np.sqrt(Q14[:,0]) # 0 is for 1st column row stay same\n"
   ]
  },
  {
   "cell_type": "markdown",
   "metadata": {},
   "source": [
    "**Code Check:** To check your code, the output of `Q14` should be:\n",
    "```\n",
    "array([[353., 349.],\n",
    "       [215., 228.],\n",
    "       [224., 215.],\n",
    "       ...,\n",
    "       [228., 224.],\n",
    "       [215., 228.],\n",
    "       [224., 215.]])\n",
    "```     \n",
    "If your output does not match, go back and review your previous steps."
   ]
  },
  {
   "cell_type": "markdown",
   "metadata": {},
   "source": [
    "**Q15:** Copy the `Q14` array and call it `Q15`.  Change any value in the `Q15` array that is currently 999 and set it to 117."
   ]
  },
  {
   "cell_type": "code",
   "execution_count": 20,
   "metadata": {},
   "outputs": [],
   "source": [
    "# make a copy of the previous array\n",
    "Q15 = Q14.copy()\n",
    "\n",
    "Q15[Q15 == 999] = Q15[Q15 == 999] =117\n"
   ]
  },
  {
   "cell_type": "markdown",
   "metadata": {},
   "source": [
    "**Q16:** \n",
    "1. Copy the `Q15` array and call it `Q16`.\n",
    "2. Take the transpose of the `Q16` array.\n",
    "3. Subtract 125 from the first column of all rows.\n",
    "4. Take the transpose of the array again (this puts it back in its original state) making sure that all the changes are saved as `Q16`."
   ]
  },
  {
   "cell_type": "code",
   "execution_count": 21,
   "metadata": {},
   "outputs": [
    {
     "data": {
      "text/plain": [
       "array([[228., 224.],\n",
       "       [215., 228.],\n",
       "       [224., 215.],\n",
       "       ...,\n",
       "       [228., 224.],\n",
       "       [215., 228.],\n",
       "       [224., 215.]])"
      ]
     },
     "execution_count": 21,
     "metadata": {},
     "output_type": "execute_result"
    }
   ],
   "source": [
    "# make a copy of the previous array\n",
    "Q16 = Q15.copy()\n",
    "Q16 = Q16.T\n",
    "Q16[:, 0]-= 125\n",
    "Q16 = Q16.T\n",
    "Q16"
   ]
  },
  {
   "cell_type": "markdown",
   "metadata": {},
   "source": [
    "**Q17:** Copy the `Q16` array and call it `Q17`.  Reshape the `Q17` array to (423, 640, 3). Note: the 3 values in each row are the RGB values for every pixel of the picture."
   ]
  },
  {
   "cell_type": "code",
   "execution_count": 22,
   "metadata": {},
   "outputs": [
    {
     "data": {
      "text/plain": [
       "array([[[228., 224., 215.],\n",
       "        [228., 224., 215.],\n",
       "        [228., 224., 215.],\n",
       "        ...,\n",
       "        [228., 224., 215.],\n",
       "        [228., 224., 215.],\n",
       "        [228., 224., 215.]],\n",
       "\n",
       "       [[228., 224., 215.],\n",
       "        [228., 224., 215.],\n",
       "        [228., 224., 215.],\n",
       "        ...,\n",
       "        [228., 224., 215.],\n",
       "        [228., 224., 215.],\n",
       "        [228., 224., 215.]],\n",
       "\n",
       "       [[228., 224., 215.],\n",
       "        [228., 224., 215.],\n",
       "        [228., 224., 215.],\n",
       "        ...,\n",
       "        [228., 224., 215.],\n",
       "        [228., 224., 215.],\n",
       "        [228., 224., 215.]],\n",
       "\n",
       "       ...,\n",
       "\n",
       "       [[ 10.,   9.,  14.],\n",
       "        [ 10.,   9.,  14.],\n",
       "        [ 10.,   9.,  14.],\n",
       "        ...,\n",
       "        [228., 224., 215.],\n",
       "        [228., 224., 215.],\n",
       "        [228., 224., 215.]],\n",
       "\n",
       "       [[ 13.,  12.,  17.],\n",
       "        [ 12.,  11.,  16.],\n",
       "        [ 11.,  10.,  15.],\n",
       "        ...,\n",
       "        [228., 224., 215.],\n",
       "        [228., 224., 215.],\n",
       "        [228., 224., 215.]],\n",
       "\n",
       "       [[ 12.,  11.,  16.],\n",
       "        [ 11.,  10.,  15.],\n",
       "        [ 10.,   9.,  14.],\n",
       "        ...,\n",
       "        [228., 224., 215.],\n",
       "        [228., 224., 215.],\n",
       "        [228., 224., 215.]]])"
      ]
     },
     "execution_count": 22,
     "metadata": {},
     "output_type": "execute_result"
    }
   ],
   "source": [
    "# make a copy of the previous array\n",
    "Q17 = Q16.copy()\n",
    "\n",
    "Q17 = Q17.reshape(423,640,3)"
   ]
  },
  {
   "cell_type": "markdown",
   "metadata": {},
   "source": [
    "**Q18:** Copy the `Q17` array and call it `Q18`.  Cast the entire `Q18` array as an `int`."
   ]
  },
  {
   "cell_type": "code",
   "execution_count": 23,
   "metadata": {},
   "outputs": [
    {
     "data": {
      "text/plain": [
       "array([[228, 224],\n",
       "       [215, 228],\n",
       "       [224, 215],\n",
       "       ...,\n",
       "       [228, 224],\n",
       "       [215, 228],\n",
       "       [224, 215]])"
      ]
     },
     "execution_count": 23,
     "metadata": {},
     "output_type": "execute_result"
    }
   ],
   "source": [
    "# make a copy of the previous array\n",
    "Q18 = Q17.copy()\n",
    "\n",
    "Q18 = Q18.astype('int')\n",
    "Q18"
   ]
  },
  {
   "cell_type": "markdown",
   "metadata": {},
   "source": [
    "**Q19:** Run the code below to plot your array below. "
   ]
  },
  {
   "cell_type": "code",
   "execution_count": 24,
   "metadata": {},
   "outputs": [
    {
     "data": {
      "image/png": "[encoded data removed]",
      "text/plain": [
       "<Figure size 1500x1000 with 1 Axes>"
      ]
     },
     "metadata": {},
     "output_type": "display_data"
    }
   ],
   "source": [
    "# create img variable to be used during plotting and in CodeGrade\n",
    "img = Q18\n",
    "\n",
    "# plot image\n",
    "fig = plt.figure(figsize=(15, 10))\n",
    "plt.imshow(img)\n",
    "plt.show()"
   ]
  },
  {
   "cell_type": "markdown",
   "metadata": {},
   "source": [
    "**Q20:** Create a variable called `Q20` that is a string of the phrase in the picture (include punctuation but not the name of the author).  You can of course hard code this string."
   ]
  },
  {
   "cell_type": "code",
   "execution_count": 25,
   "metadata": {},
   "outputs": [
    {
     "ename": "SyntaxError",
     "evalue": "invalid syntax (1839214530.py, line 1)",
     "output_type": "error",
     "traceback": [
      "\u001b[1;36m  Cell \u001b[1;32mIn[25], line 1\u001b[1;36m\u001b[0m\n\u001b[1;33m    Q20 =\u001b[0m\n\u001b[1;37m          ^\u001b[0m\n\u001b[1;31mSyntaxError\u001b[0m\u001b[1;31m:\u001b[0m invalid syntax\n"
     ]
    }
   ],
   "source": []
  }
 ],
 "metadata": {
  "kernelspec": {
   "display_name": "Python 3 (ipykernel)",
   "language": "python",
   "name": "python3"
  },
  "language_info": {
   "codemirror_mode": {
    "name": "ipython",
    "version": 3
   },
   "file_extension": ".py",
   "mimetype": "text/x-python",
   "name": "python",
   "nbconvert_exporter": "python",
   "pygments_lexer": "ipython3",
   "version": "3.11.4"
  }
 },
 "nbformat": 4,
 "nbformat_minor": 4
}
